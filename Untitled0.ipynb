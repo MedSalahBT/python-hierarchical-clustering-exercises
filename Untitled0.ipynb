{
  "nbformat": 4,
  "nbformat_minor": 0,
  "metadata": {
    "colab": {
      "name": "Untitled0.ipynb",
      "version": "0.3.2",
      "provenance": [],
      "collapsed_sections": [],
      "include_colab_link": true
    },
    "kernelspec": {
      "name": "python3",
      "display_name": "Python 3"
    }
  },
  "cells": [
    {
      "cell_type": "markdown",
      "metadata": {
        "id": "view-in-github",
        "colab_type": "text"
      },
      "source": [
        "[![Open In Colab](https://colab.research.google.com/assets/colab-badge.svg)](https://colab.research.google.com/github/MedSalahBT/python-hierarchical-clustering-exercises/blob/master/Untitled0.ipynb)"
      ]
    },
    {
      "metadata": {
        "id": "_P5qAT-5L6dC",
        "colab_type": "code",
        "colab": {}
      },
      "cell_type": "code",
      "source": [
        "from sklearn.datasets import make_blobs\n",
        "import matplotlib.pyplot as plt\n",
        "%matplotlib inline\n"
      ],
      "execution_count": 0,
      "outputs": []
    },
    {
      "metadata": {
        "id": "iP3dZKk1L-LL",
        "colab_type": "code",
        "colab": {
          "base_uri": "https://localhost:8080/",
          "height": 283
        },
        "outputId": "e01c4a37-524f-4b7e-82fc-cd4824150d93"
      },
      "cell_type": "code",
      "source": [
        "centers=[[-10,-10],[10,10]]\n",
        "stds = [4,4]\n",
        "X, y = make_blobs(n_samples=50, n_features=2,centers=centers, cluster_std=stds)\n",
        "plt.scatter(X[:,0],X[:,1],c=y)\n"
      ],
      "execution_count": 3,
      "outputs": [
        {
          "output_type": "execute_result",
          "data": {
            "text/plain": [
              "<matplotlib.collections.PathCollection at 0x7f8a40192cc0>"
            ]
          },
          "metadata": {
            "tags": []
          },
          "execution_count": 3
        },
        {
          "output_type": "display_data",
          "data": {
            "image/png": "[encoded data removed]",
            "text/plain": [
              "<matplotlib.figure.Figure at 0x7f8a4023b6d8>"
            ]
          },
          "metadata": {
            "tags": []
          }
        }
      ]
    },
    {
      "metadata": {
        "id": "B9_apUISMakh",
        "colab_type": "code",
        "colab": {
          "base_uri": "https://localhost:8080/",
          "height": 283
        },
        "outputId": "7d1e994e-c73b-499c-b2ba-75d7f7cfc68a"
      },
      "cell_type": "code",
      "source": [
        "from sklearn import cluster\n",
        "\n",
        "plt.figure()\n",
        "model = cluster.AgglomerativeClustering(n_clusters=5);\n",
        "model.fit(X)\n",
        "plt.scatter(X[:,0], X[:,1], c=model.labels_,edgecolors='none') "
      ],
      "execution_count": 4,
      "outputs": [
        {
          "output_type": "execute_result",
          "data": {
            "text/plain": [
              "<matplotlib.collections.PathCollection at 0x7f8a39101128>"
            ]
          },
          "metadata": {
            "tags": []
          },
          "execution_count": 4
        },
        {
          "output_type": "display_data",
          "data": {
            "image/png": "[encoded data removed]",
            "text/plain": [
              "<matplotlib.figure.Figure at 0x7f8a40678080>"
            ]
          },
          "metadata": {
            "tags": []
          }
        }
      ]
    },
    {
      "metadata": {
        "id": "sOj4oSAPMd4A",
        "colab_type": "code",
        "colab": {}
      },
      "cell_type": "code",
      "source": [
        "import numpy as np\n",
        "def get_indexes(clusters, k):\n",
        "    \"\"\"\n",
        "    :param clusters: clusters[i] <=> x_i belongs to cluster clusters[i]\n",
        "    :return: All indexes i such as clusters[i] == k\n",
        "    \"\"\"\n",
        "    return [ i for i in range(0,len(clusters)) if clusters[i] == k]\n",
        "\n",
        "def Jw(X, clusters):\n",
        "    \"\"\"\n",
        "    Compute an intra cluster inertia\n",
        "    :param X: data to cluster\n",
        "    :param clusters: clusters[i] <=> x_i belongs to cluster clusters[i]\n",
        "    \"\"\"\n",
        "    K = len(np.unique(clusters))\n",
        "    mus = np.zeros((K,2))\n",
        "    #calculs des mu_k\n",
        "    for i in range(0,K):\n",
        "        mus[i] = np.mean(X[clusters[:] == i,:],axis=0)\n",
        "        \n",
        "    #Calcul de l'inertie intra cluster pour chaque k\n",
        "    #inerties = np.zeros(K)\n",
        "    #for k in range(0,K):\n",
        "    #    for i in get_indexes(clusters,k):\n",
        "    #        inerties[k] += ((X[i] - mus[k])**2).sum()\n",
        "    \n",
        "    inertie = 0\n",
        "    for i in range(0,len(clusters)):\n",
        "         inertie+= ((X[i,:] - mus[clusters[i]])**2).sum()\n",
        "    return inertie\n",
        "\n",
        "def Jb(X, clusters,mus = None):\n",
        "    \"\"\"\n",
        "    Compute an inter cluster inertia\n",
        "    :param X: data to cluster\n",
        "    :param clusters: clusters[i] <=> x_i belongs to cluster clusters[i]\n",
        "    \"\"\"\n",
        "    K = len(np.unique(clusters))\n",
        "    mus = np.zeros((K,2))\n",
        "    #calculs des mu_k\n",
        "    for i in range(0,K):\n",
        "        mus[i] = np.mean(X[clusters[:] == i,:],axis=0)\n",
        "    mu = np.mean(X,axis=0)\n",
        "    inertia = 0\n",
        "    for k in range(0,K):\n",
        "      inertia += ((mus[k,:] - mu)**2).sum() #* len(clusters[:] == k)\n",
        "    return inertia\n"
      ],
      "execution_count": 0,
      "outputs": []
    },
    {
      "metadata": {
        "id": "qJZgK2HJMhDG",
        "colab_type": "code",
        "colab": {}
      },
      "cell_type": "code",
      "source": [
        "N=X.shape[0]\n",
        "Jws = []\n",
        "Jbs = []\n",
        "ks=[]\n",
        "for k in range(2,N):\n",
        "  model = cluster.AgglomerativeClustering(n_clusters=k);\n",
        "  model.fit(X)\n",
        "  Jws.append(Jw(X,model.labels_))\n",
        "  Jbs.append(Jb(X,model.labels_))\n",
        "  ks.append(k)\n",
        "\n",
        "  "
      ],
      "execution_count": 0,
      "outputs": []
    },
    {
      "metadata": {
        "id": "oJJ1_MsOM61p",
        "colab_type": "code",
        "colab": {},
        "outputId": "0bf837fc-9b43-47b6-b7ae-b00bbe2fb302"
      },
      "cell_type": "code",
      "source": [
        "plt.figure()\n",
        "plt.subplot(211)\n",
        "plt.plot(Jws)\n",
        "\n",
        "plt.subplot(212)\n",
        "plt.plot(Jbs)"
      ],
      "execution_count": 0,
      "outputs": []
    },
    {
      "metadata": {
        "id": "2GCcsfwkM-AK",
        "colab_type": "code",
        "colab": {
          "base_uri": "https://localhost:8080/",
          "height": 283
        },
        "outputId": "588c535b-f963-444f-a5b9-e2885abc9827"
      },
      "cell_type": "code",
      "source": [
        "plt.plot(ks)"
      ],
      "execution_count": 10,
      "outputs": [
        {
          "output_type": "execute_result",
          "data": {
            "text/plain": [
              "[<matplotlib.lines.Line2D at 0x7f8a38fdc710>]"
            ]
          },
          "metadata": {
            "tags": []
          },
          "execution_count": 10
        },
        {
          "output_type": "display_data",
          "data": {
            "image/png": "[encoded data removed]",
            "text/plain": [
              "<matplotlib.figure.Figure at 0x7f8a38ff7e48>"
            ]
          },
          "metadata": {
            "tags": []
          }
        }
      ]
    },
    {
      "metadata": {
        "id": "iRqHQUgBNN0O",
        "colab_type": "code",
        "colab": {}
      },
      "cell_type": "code",
      "source": [
        ""
      ],
      "execution_count": 0,
      "outputs": []
    }
  ]
}